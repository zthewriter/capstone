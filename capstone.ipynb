{
 "cells": [
  {
   "cell_type": "markdown",
   "metadata": {},
   "source": [
    "# Capstone project for ZAI ORTIZ\n",
    "\n",
    "![Course Hero](images/hero.png)"
   ]
  },
  {
   "cell_type": "markdown",
   "metadata": {},
   "source": [
    "## Introduction\n",
    "\n",
    "The project I chose will examine whether or not we are approaching a recession. It will examine past recession data to determine whether or not the same patterns are present in those economies today. \n",
    "\n",
    "The questions this project will answer are the following:\n",
    " \n",
    " *Will there be a recession in the next year?*"
   ]
  },
  {
   "cell_type": "markdown",
   "metadata": {},
   "source": [
    "## Data Set Selection\n",
    "\n",
    "This project contains the following dependencies:\n",
    "1. Common recession indicators and models\n",
    "2. Past recession data \n",
    "3. Today's data to compare to the past\n",
    "4. Predictive analysis based on past trends \n",
    "\n",
    "To complete this project I will use the following databases: \n",
    "1. [Yahoo Finance](https://finance.yahoo.com/quote/%5EGSPC/history?p=%5EGSPC)\n",
    "2. [Fred Economic Data](https://fred.stlouisfed.org/)\n",
    "\n",
    "The steps I will take to complete this project are the following: \n",
    "1. Select a recession model (one that clearly defines recession indicators)\n",
    "2. Analyze these indicators against historic recessions and see if they match up \n",
    "3. Analyze these indicators against today's economies\n",
    "4. Use predictive analytics to see if there will be a recession this year, if we are not already in a recession according to the indicators"
   ]
  },
  {
   "cell_type": "markdown",
   "metadata": {},
   "source": [
    "## Data Examination\n",
    "\n",
    "Let's start with the imports for the notebook.\n",
    "\n",
    "Note: Remember to add in the `requirements.txt` file all the modules you use."
   ]
  },
  {
   "cell_type": "code",
   "execution_count": 1,
   "metadata": {},
   "outputs": [],
   "source": [
    "import numpy as np\n",
    "import pandas as pd\n",
    "import matplotlib.pyplot as plt"
   ]
  },
  {
   "cell_type": "markdown",
   "metadata": {},
   "source": [
    "Get the selected data set into a pandas Dataframe.\n",
    "\n",
    "Note: You need to add the right method to load the data."
   ]
  },
  {
   "cell_type": "code",
   "execution_count": null,
   "metadata": {},
   "outputs": [],
   "source": [
    "df = pd.read_clipboard()"
   ]
  },
  {
   "cell_type": "markdown",
   "metadata": {},
   "source": [
    "Find relevant information about the selected dataset.\n",
    "\n",
    "- How many rows and columns does it has?\n",
    "- Which characteristics does each column has?\n",
    "    - Data type\n",
    "    - Minimum and maximum values\n",
    "    - Values distribution\n",
    "    - Missing data\n",
    "- Which columns are related or are dependent on each other? \n",
    "    - Which ones can be derived?\n",
    "    - Which are good candidates for an hypothesis?\n",
    "\n",
    "Note: Use pandas methods as shape, head, sample, groupby, describe and any other you can think of!"
   ]
  },
  {
   "cell_type": "code",
   "execution_count": null,
   "metadata": {},
   "outputs": [],
   "source": []
  },
  {
   "cell_type": "markdown",
   "metadata": {},
   "source": [
    "## Define the Hypothesis to test\n",
    "\n",
    "Decide what is your project about.\n",
    "\n",
    "What do you want to predict?\n",
    "\n",
    "`Elaborate here`"
   ]
  },
  {
   "cell_type": "markdown",
   "metadata": {},
   "source": [
    "## Clean the data\n",
    "\n",
    "Create a new Data Frame just with the data you are going to use"
   ]
  },
  {
   "cell_type": "code",
   "execution_count": null,
   "metadata": {},
   "outputs": [],
   "source": []
  },
  {
   "cell_type": "markdown",
   "metadata": {},
   "source": [
    "## Run your experiment(s)\n",
    "\n",
    "Describe what your experiment is done, and execute it.\n",
    "\n",
    "Note: Be generous with your plots!"
   ]
  },
  {
   "cell_type": "code",
   "execution_count": null,
   "metadata": {},
   "outputs": [],
   "source": []
  },
  {
   "cell_type": "markdown",
   "metadata": {},
   "source": [
    "## Reach a conclusion\n",
    "\n",
    "What was the result of your experiment?\n",
    "\n",
    "How can it be improved?\n",
    "\n",
    "Elaborate in one thing you learn during the capstone project."
   ]
  },
  {
   "cell_type": "markdown",
   "metadata": {},
   "source": [
    "## Congratulations\n",
    "\n",
    "You have finished the bootcamp!\n",
    "\n",
    "![Congratulations](images/congratulations.jpg)"
   ]
  }
 ],
 "metadata": {
  "kernelspec": {
   "display_name": "Python 3.9.13 ('venv': venv)",
   "language": "python",
   "name": "python3"
  },
  "language_info": {
   "codemirror_mode": {
    "name": "ipython",
    "version": 3
   },
   "file_extension": ".py",
   "mimetype": "text/x-python",
   "name": "python",
   "nbconvert_exporter": "python",
   "pygments_lexer": "ipython3",
   "version": "3.9.13"
  },
  "vscode": {
   "interpreter": {
    "hash": "df6b41b075db6a2f2c9f98b203c8c9b2d206ede475ff3bb3684fc290f60ecca2"
   }
  }
 },
 "nbformat": 4,
 "nbformat_minor": 4
}
