{
 "cells": [
  {
   "cell_type": "markdown",
   "metadata": {},
   "source": [
    "# Capstone project for ZAI ORTIZ\n",
    "\n",
    "![Course Hero](images/hero.png)"
   ]
  },
  {
   "cell_type": "markdown",
   "metadata": {},
   "source": [
    "## Introduction\n",
    "\n",
    "The project I chose will examine whether or not we are approaching a recession. It will examine past recession data to determine whether or not the same patterns are present in those economies today. \n",
    "\n",
    "The questions this project will answer are the following:\n",
    " \n",
    " *Will there be a recession in the next year?*"
   ]
  },
  {
   "cell_type": "markdown",
   "metadata": {},
   "source": [
    "## Data Set Selection\n",
    "\n",
    "This project contains the following dependencies:\n",
    "1. Common recession indicators and models\n",
    "2. Past recession data \n",
    "3. Today's data to compare to the past\n",
    "4. Predictive analysis to compare today's trends to past trends \n",
    "\n",
    "To complete this project I will use the following databases: \n",
    "1. [Federal Reserve Bank of New York](https://www.newyorkfed.org/research/capital_markets/ycfaq#/overview)\n",
    "2. [Fred Economic Data](https://fred.stlouisfed.org/)\n",
    "\n",
    "The steps I will take to complete this project are the following: \n",
    "1. Generate a hypothesis\n",
    "2. Use the Yield Curve Model\n",
    "3. Find data to perform a Yield Curve Model analysis\n",
    "4. Examine the data\n",
    "5. Perform the analysis\n",
    "6. Confirm whether or not the hypothesis was correct\n",
    "7. Report findings"
   ]
  },
  {
   "cell_type": "markdown",
   "metadata": {},
   "source": [
    "## Data Examination\n",
    "\n",
    "Let's start with the imports for the notebook.\n",
    "\n",
    "Note: Remember to add in the `requirements.txt` file all the modules you use."
   ]
  },
  {
   "cell_type": "code",
   "execution_count": 1,
   "metadata": {},
   "outputs": [],
   "source": [
    "import numpy as np\n",
    "import pandas as pd\n",
    "import matplotlib.pyplot as plt"
   ]
  },
  {
   "cell_type": "markdown",
   "metadata": {},
   "source": [
    "Get the selected data set into a pandas Dataframe.\n",
    "\n",
    "Note: You need to add the right method to load the data."
   ]
  },
  {
   "cell_type": "code",
   "execution_count": 3,
   "metadata": {},
   "outputs": [],
   "source": [
    "df = pd.read_clipboard()"
   ]
  },
  {
   "cell_type": "code",
   "execution_count": 13,
   "metadata": {},
   "outputs": [],
   "source": [
    "import pandas as pd\n",
    "\n",
    "treasury_data = pd.read_csv(\"file:///Users/zaira.ortiz/Downloads/allmonth (1) - rec_prob.csv\")"
   ]
  },
  {
   "cell_type": "markdown",
   "metadata": {},
   "source": [
    "Find relevant information about the selected dataset.\n",
    "\n",
    "- How many rows and columns does it has?\n",
    "- Which characteristics does each column has?\n",
    "    - Data type\n",
    "    - Minimum and maximum values\n",
    "    - Values distribution\n",
    "    - Missing data\n",
    "- Which columns are related or are dependent on each other? \n",
    "    - Which ones can be derived?\n",
    "    - Which are good candidates for an hypothesis?\n",
    "\n",
    "Note: Use pandas methods as shape, head, sample, groupby, describe and any other you can think of!"
   ]
  },
  {
   "cell_type": "code",
   "execution_count": null,
   "metadata": {},
   "outputs": [],
   "source": []
  },
  {
   "cell_type": "markdown",
   "metadata": {},
   "source": [
    "How many rows and columns does the data have?"
   ]
  },
  {
   "cell_type": "code",
   "execution_count": 14,
   "metadata": {},
   "outputs": [
    {
     "name": "stdout",
     "output_type": "stream",
     "text": [
      "Shape:  (775, 7)\n"
     ]
    }
   ],
   "source": [
    "print(\"Shape: \", treasury_data.shape)"
   ]
  },
  {
   "cell_type": "markdown",
   "metadata": {},
   "source": [
    "What are the data types?"
   ]
  },
  {
   "cell_type": "code",
   "execution_count": 15,
   "metadata": {},
   "outputs": [
    {
     "name": "stdout",
     "output_type": "stream",
     "text": [
      "<class 'pandas.core.frame.DataFrame'>\n",
      "RangeIndex: 775 entries, 0 to 774\n",
      "Data columns (total 7 columns):\n",
      " #   Column                                          Non-Null Count  Dtype  \n",
      "---  ------                                          --------------  -----  \n",
      " 0   Date                                            775 non-null    object \n",
      " 1   10 Year Treasury Yield                          763 non-null    float64\n",
      " 2   3 Month Treasury Yield                          763 non-null    float64\n",
      " 3   3 Month Treasury Yield (Bond Equivalent Basis)  763 non-null    float64\n",
      " 4   Spread                                          763 non-null    float64\n",
      " 5   Rec_prob                                        763 non-null    object \n",
      " 6   NBER_Rec                                        763 non-null    float64\n",
      "dtypes: float64(5), object(2)\n",
      "memory usage: 127.3 KB\n"
     ]
    }
   ],
   "source": [
    "treasury_data.info(memory_usage=\"deep\")"
   ]
  },
  {
   "cell_type": "markdown",
   "metadata": {},
   "source": [
    "What are the Minimum and Maximum Values?"
   ]
  },
  {
   "cell_type": "code",
   "execution_count": 16,
   "metadata": {},
   "outputs": [
    {
     "name": "stderr",
     "output_type": "stream",
     "text": [
      "/var/folders/6b/74jkm5q95jvd370m9npx8vch0000gn/T/ipykernel_24988/3667023145.py:1: FutureWarning: Dropping of nuisance columns in DataFrame reductions (with 'numeric_only=None') is deprecated; in a future version this will raise TypeError.  Select only valid columns before calling the reduction.\n",
      "  treasury_data.max(axis=0)\n"
     ]
    },
    {
     "data": {
      "text/plain": [
       "Date                                              9/30/2022\n",
       "10 Year Treasury Yield                                15.32\n",
       "3 Month Treasury Yield                                 16.3\n",
       "3 Month Treasury Yield (Bond Equivalent Basis)        17.24\n",
       "Spread                                                 4.15\n",
       "NBER_Rec                                                1.0\n",
       "dtype: object"
      ]
     },
     "execution_count": 16,
     "metadata": {},
     "output_type": "execute_result"
    }
   ],
   "source": [
    "treasury_data.max(axis=0)"
   ]
  },
  {
   "cell_type": "code",
   "execution_count": 17,
   "metadata": {},
   "outputs": [
    {
     "name": "stderr",
     "output_type": "stream",
     "text": [
      "/var/folders/6b/74jkm5q95jvd370m9npx8vch0000gn/T/ipykernel_24988/1375914326.py:1: FutureWarning: Dropping of nuisance columns in DataFrame reductions (with 'numeric_only=None') is deprecated; in a future version this will raise TypeError.  Select only valid columns before calling the reduction.\n",
      "  treasury_data.min(axis=0)\n"
     ]
    },
    {
     "data": {
      "text/plain": [
       "Date                                              1/31/2018\n",
       "10 Year Treasury Yield                                 0.62\n",
       "3 Month Treasury Yield                                 0.01\n",
       "3 Month Treasury Yield (Bond Equivalent Basis)         0.01\n",
       "Spread                                                -3.51\n",
       "NBER_Rec                                                0.0\n",
       "dtype: object"
      ]
     },
     "execution_count": 17,
     "metadata": {},
     "output_type": "execute_result"
    }
   ],
   "source": [
    "treasury_data.min(axis=0)"
   ]
  },
  {
   "cell_type": "markdown",
   "metadata": {},
   "source": [
    "Values Distribution"
   ]
  },
  {
   "cell_type": "code",
   "execution_count": 18,
   "metadata": {},
   "outputs": [
    {
     "data": {
      "text/html": [
       "<div>\n",
       "<style scoped>\n",
       "    .dataframe tbody tr th:only-of-type {\n",
       "        vertical-align: middle;\n",
       "    }\n",
       "\n",
       "    .dataframe tbody tr th {\n",
       "        vertical-align: top;\n",
       "    }\n",
       "\n",
       "    .dataframe thead th {\n",
       "        text-align: right;\n",
       "    }\n",
       "</style>\n",
       "<table border=\"1\" class=\"dataframe\">\n",
       "  <thead>\n",
       "    <tr style=\"text-align: right;\">\n",
       "      <th></th>\n",
       "      <th>10 Year Treasury Yield</th>\n",
       "      <th>3 Month Treasury Yield</th>\n",
       "      <th>3 Month Treasury Yield (Bond Equivalent Basis)</th>\n",
       "      <th>Spread</th>\n",
       "      <th>NBER_Rec</th>\n",
       "    </tr>\n",
       "  </thead>\n",
       "  <tbody>\n",
       "    <tr>\n",
       "      <th>count</th>\n",
       "      <td>763.000000</td>\n",
       "      <td>763.000000</td>\n",
       "      <td>763.000000</td>\n",
       "      <td>763.000000</td>\n",
       "      <td>763.000000</td>\n",
       "    </tr>\n",
       "    <tr>\n",
       "      <th>mean</th>\n",
       "      <td>5.836081</td>\n",
       "      <td>4.347575</td>\n",
       "      <td>4.483552</td>\n",
       "      <td>1.352529</td>\n",
       "      <td>0.124509</td>\n",
       "    </tr>\n",
       "    <tr>\n",
       "      <th>std</th>\n",
       "      <td>2.945843</td>\n",
       "      <td>3.179119</td>\n",
       "      <td>3.317027</td>\n",
       "      <td>1.245848</td>\n",
       "      <td>0.330377</td>\n",
       "    </tr>\n",
       "    <tr>\n",
       "      <th>min</th>\n",
       "      <td>0.620000</td>\n",
       "      <td>0.010000</td>\n",
       "      <td>0.010000</td>\n",
       "      <td>-3.510000</td>\n",
       "      <td>0.000000</td>\n",
       "    </tr>\n",
       "    <tr>\n",
       "      <th>25%</th>\n",
       "      <td>3.890000</td>\n",
       "      <td>1.865000</td>\n",
       "      <td>1.895000</td>\n",
       "      <td>0.480000</td>\n",
       "      <td>0.000000</td>\n",
       "    </tr>\n",
       "    <tr>\n",
       "      <th>50%</th>\n",
       "      <td>5.500000</td>\n",
       "      <td>4.430000</td>\n",
       "      <td>4.540000</td>\n",
       "      <td>1.400000</td>\n",
       "      <td>0.000000</td>\n",
       "    </tr>\n",
       "    <tr>\n",
       "      <th>75%</th>\n",
       "      <td>7.540000</td>\n",
       "      <td>6.010000</td>\n",
       "      <td>6.190000</td>\n",
       "      <td>2.350000</td>\n",
       "      <td>0.000000</td>\n",
       "    </tr>\n",
       "    <tr>\n",
       "      <th>max</th>\n",
       "      <td>15.320000</td>\n",
       "      <td>16.300000</td>\n",
       "      <td>17.240000</td>\n",
       "      <td>4.150000</td>\n",
       "      <td>1.000000</td>\n",
       "    </tr>\n",
       "  </tbody>\n",
       "</table>\n",
       "</div>"
      ],
      "text/plain": [
       "       10 Year Treasury Yield  3 Month Treasury Yield  \\\n",
       "count              763.000000              763.000000   \n",
       "mean                 5.836081                4.347575   \n",
       "std                  2.945843                3.179119   \n",
       "min                  0.620000                0.010000   \n",
       "25%                  3.890000                1.865000   \n",
       "50%                  5.500000                4.430000   \n",
       "75%                  7.540000                6.010000   \n",
       "max                 15.320000               16.300000   \n",
       "\n",
       "       3 Month Treasury Yield (Bond Equivalent Basis)      Spread    NBER_Rec  \n",
       "count                                      763.000000  763.000000  763.000000  \n",
       "mean                                         4.483552    1.352529    0.124509  \n",
       "std                                          3.317027    1.245848    0.330377  \n",
       "min                                          0.010000   -3.510000    0.000000  \n",
       "25%                                          1.895000    0.480000    0.000000  \n",
       "50%                                          4.540000    1.400000    0.000000  \n",
       "75%                                          6.190000    2.350000    0.000000  \n",
       "max                                         17.240000    4.150000    1.000000  "
      ]
     },
     "execution_count": 18,
     "metadata": {},
     "output_type": "execute_result"
    }
   ],
   "source": [
    "treasury_data.describe()"
   ]
  },
  {
   "cell_type": "code",
   "execution_count": 19,
   "metadata": {},
   "outputs": [
    {
     "data": {
      "text/html": [
       "<div>\n",
       "<style scoped>\n",
       "    .dataframe tbody tr th:only-of-type {\n",
       "        vertical-align: middle;\n",
       "    }\n",
       "\n",
       "    .dataframe tbody tr th {\n",
       "        vertical-align: top;\n",
       "    }\n",
       "\n",
       "    .dataframe thead th {\n",
       "        text-align: right;\n",
       "    }\n",
       "</style>\n",
       "<table border=\"1\" class=\"dataframe\">\n",
       "  <thead>\n",
       "    <tr style=\"text-align: right;\">\n",
       "      <th></th>\n",
       "      <th>Date</th>\n",
       "      <th>Rec_prob</th>\n",
       "    </tr>\n",
       "  </thead>\n",
       "  <tbody>\n",
       "    <tr>\n",
       "      <th>count</th>\n",
       "      <td>775</td>\n",
       "      <td>763</td>\n",
       "    </tr>\n",
       "    <tr>\n",
       "      <th>unique</th>\n",
       "      <td>775</td>\n",
       "      <td>646</td>\n",
       "    </tr>\n",
       "    <tr>\n",
       "      <th>top</th>\n",
       "      <td>31-Jan-59</td>\n",
       "      <td>0.21%</td>\n",
       "    </tr>\n",
       "    <tr>\n",
       "      <th>freq</th>\n",
       "      <td>1</td>\n",
       "      <td>6</td>\n",
       "    </tr>\n",
       "  </tbody>\n",
       "</table>\n",
       "</div>"
      ],
      "text/plain": [
       "             Date Rec_prob\n",
       "count         775      763\n",
       "unique        775      646\n",
       "top     31-Jan-59    0.21%\n",
       "freq            1        6"
      ]
     },
     "execution_count": 19,
     "metadata": {},
     "output_type": "execute_result"
    }
   ],
   "source": [
    "treasury_data.describe(include=\"object\")"
   ]
  },
  {
   "cell_type": "markdown",
   "metadata": {},
   "source": [
    "Missing data"
   ]
  },
  {
   "cell_type": "code",
   "execution_count": 20,
   "metadata": {},
   "outputs": [
    {
     "name": "stdout",
     "output_type": "stream",
     "text": [
      "Date                                               0\n",
      "10 Year Treasury Yield                            12\n",
      "3 Month Treasury Yield                            12\n",
      "3 Month Treasury Yield (Bond Equivalent Basis)    12\n",
      "Spread                                            12\n",
      "Rec_prob                                          12\n",
      "NBER_Rec                                          12\n",
      "dtype: int64\n"
     ]
    }
   ],
   "source": [
    "print (treasury_data.isnull().sum(axis=0))"
   ]
  },
  {
   "cell_type": "markdown",
   "metadata": {},
   "source": [
    "Which columns are related or independent of each other?"
   ]
  },
  {
   "cell_type": "markdown",
   "metadata": {},
   "source": [
    "Which can be derived?"
   ]
  },
  {
   "cell_type": "markdown",
   "metadata": {},
   "source": [
    "Which are good candidates for a hypothesis?"
   ]
  },
  {
   "cell_type": "code",
   "execution_count": null,
   "metadata": {},
   "outputs": [],
   "source": []
  },
  {
   "cell_type": "markdown",
   "metadata": {},
   "source": [
    "## Define the Hypothesis to test\n",
    "\n",
    "Decide what is your project about.\n",
    "\n",
    "What do you want to predict?\n",
    "\n",
    "I want to predict whether or not there will be a recession in the next 12 months. My hypothesis is yes."
   ]
  },
  {
   "cell_type": "markdown",
   "metadata": {},
   "source": [
    "## Clean the data\n",
    "\n",
    "Create a new Data Frame just with the data you are going to use"
   ]
  },
  {
   "cell_type": "code",
   "execution_count": 22,
   "metadata": {},
   "outputs": [],
   "source": [
    "yield_data = treasury_data[[\"10 Year Treasury Yield\", \"3 Month Treasury Yield (Bond Equivalent Basis)\", \"Spread\"]].copy()"
   ]
  },
  {
   "cell_type": "markdown",
   "metadata": {},
   "source": [
    "## Run your experiment(s)\n",
    "\n",
    "Describe what your experiment is done, and execute it.\n",
    "\n",
    "Note: Be generous with your plots!"
   ]
  },
  {
   "cell_type": "code",
   "execution_count": 23,
   "metadata": {},
   "outputs": [
    {
     "name": "stdout",
     "output_type": "stream",
     "text": [
      "Shape:  (775, 3)\n",
      "Info:\n",
      "<class 'pandas.core.frame.DataFrame'>\n",
      "RangeIndex: 775 entries, 0 to 774\n",
      "Data columns (total 3 columns):\n",
      " #   Column                                          Non-Null Count  Dtype  \n",
      "---  ------                                          --------------  -----  \n",
      " 0   10 Year Treasury Yield                          763 non-null    float64\n",
      " 1   3 Month Treasury Yield (Bond Equivalent Basis)  763 non-null    float64\n",
      " 2   Spread                                          763 non-null    float64\n",
      "dtypes: float64(3)\n",
      "memory usage: 18.3 KB\n",
      "Head:\n"
     ]
    },
    {
     "data": {
      "text/html": [
       "<div>\n",
       "<style scoped>\n",
       "    .dataframe tbody tr th:only-of-type {\n",
       "        vertical-align: middle;\n",
       "    }\n",
       "\n",
       "    .dataframe tbody tr th {\n",
       "        vertical-align: top;\n",
       "    }\n",
       "\n",
       "    .dataframe thead th {\n",
       "        text-align: right;\n",
       "    }\n",
       "</style>\n",
       "<table border=\"1\" class=\"dataframe\">\n",
       "  <thead>\n",
       "    <tr style=\"text-align: right;\">\n",
       "      <th></th>\n",
       "      <th>10 Year Treasury Yield</th>\n",
       "      <th>3 Month Treasury Yield (Bond Equivalent Basis)</th>\n",
       "      <th>Spread</th>\n",
       "    </tr>\n",
       "  </thead>\n",
       "  <tbody>\n",
       "    <tr>\n",
       "      <th>0</th>\n",
       "      <td>4.02</td>\n",
       "      <td>2.88</td>\n",
       "      <td>1.14</td>\n",
       "    </tr>\n",
       "    <tr>\n",
       "      <th>1</th>\n",
       "      <td>3.96</td>\n",
       "      <td>2.76</td>\n",
       "      <td>1.20</td>\n",
       "    </tr>\n",
       "    <tr>\n",
       "      <th>2</th>\n",
       "      <td>3.99</td>\n",
       "      <td>2.86</td>\n",
       "      <td>1.13</td>\n",
       "    </tr>\n",
       "    <tr>\n",
       "      <th>3</th>\n",
       "      <td>4.12</td>\n",
       "      <td>3.01</td>\n",
       "      <td>1.11</td>\n",
       "    </tr>\n",
       "    <tr>\n",
       "      <th>4</th>\n",
       "      <td>4.31</td>\n",
       "      <td>2.90</td>\n",
       "      <td>1.41</td>\n",
       "    </tr>\n",
       "  </tbody>\n",
       "</table>\n",
       "</div>"
      ],
      "text/plain": [
       "   10 Year Treasury Yield  3 Month Treasury Yield (Bond Equivalent Basis)  \\\n",
       "0                    4.02                                            2.88   \n",
       "1                    3.96                                            2.76   \n",
       "2                    3.99                                            2.86   \n",
       "3                    4.12                                            3.01   \n",
       "4                    4.31                                            2.90   \n",
       "\n",
       "   Spread  \n",
       "0    1.14  \n",
       "1    1.20  \n",
       "2    1.13  \n",
       "3    1.11  \n",
       "4    1.41  "
      ]
     },
     "execution_count": 23,
     "metadata": {},
     "output_type": "execute_result"
    }
   ],
   "source": [
    "print(\"Shape: \", yield_data.shape)\n",
    "print(\"Info:\")\n",
    "yield_data.info(memory_usage=\"deep\")\n",
    "print(\"Head:\")\n",
    "yield_data.head()"
   ]
  },
  {
   "cell_type": "code",
   "execution_count": 24,
   "metadata": {},
   "outputs": [
    {
     "data": {
      "text/html": [
       "<div>\n",
       "<style scoped>\n",
       "    .dataframe tbody tr th:only-of-type {\n",
       "        vertical-align: middle;\n",
       "    }\n",
       "\n",
       "    .dataframe tbody tr th {\n",
       "        vertical-align: top;\n",
       "    }\n",
       "\n",
       "    .dataframe thead th {\n",
       "        text-align: right;\n",
       "    }\n",
       "</style>\n",
       "<table border=\"1\" class=\"dataframe\">\n",
       "  <thead>\n",
       "    <tr style=\"text-align: right;\">\n",
       "      <th></th>\n",
       "      <th>10 Year Treasury Yield</th>\n",
       "      <th>3 Month Treasury Yield (Bond Equivalent Basis)</th>\n",
       "      <th>Spread</th>\n",
       "    </tr>\n",
       "  </thead>\n",
       "  <tbody>\n",
       "    <tr>\n",
       "      <th>count</th>\n",
       "      <td>763.000000</td>\n",
       "      <td>763.000000</td>\n",
       "      <td>763.000000</td>\n",
       "    </tr>\n",
       "    <tr>\n",
       "      <th>mean</th>\n",
       "      <td>5.836081</td>\n",
       "      <td>4.483552</td>\n",
       "      <td>1.352529</td>\n",
       "    </tr>\n",
       "    <tr>\n",
       "      <th>std</th>\n",
       "      <td>2.945843</td>\n",
       "      <td>3.317027</td>\n",
       "      <td>1.245848</td>\n",
       "    </tr>\n",
       "    <tr>\n",
       "      <th>min</th>\n",
       "      <td>0.620000</td>\n",
       "      <td>0.010000</td>\n",
       "      <td>-3.510000</td>\n",
       "    </tr>\n",
       "    <tr>\n",
       "      <th>25%</th>\n",
       "      <td>3.890000</td>\n",
       "      <td>1.895000</td>\n",
       "      <td>0.480000</td>\n",
       "    </tr>\n",
       "    <tr>\n",
       "      <th>50%</th>\n",
       "      <td>5.500000</td>\n",
       "      <td>4.540000</td>\n",
       "      <td>1.400000</td>\n",
       "    </tr>\n",
       "    <tr>\n",
       "      <th>75%</th>\n",
       "      <td>7.540000</td>\n",
       "      <td>6.190000</td>\n",
       "      <td>2.350000</td>\n",
       "    </tr>\n",
       "    <tr>\n",
       "      <th>max</th>\n",
       "      <td>15.320000</td>\n",
       "      <td>17.240000</td>\n",
       "      <td>4.150000</td>\n",
       "    </tr>\n",
       "  </tbody>\n",
       "</table>\n",
       "</div>"
      ],
      "text/plain": [
       "       10 Year Treasury Yield  3 Month Treasury Yield (Bond Equivalent Basis)  \\\n",
       "count              763.000000                                      763.000000   \n",
       "mean                 5.836081                                        4.483552   \n",
       "std                  2.945843                                        3.317027   \n",
       "min                  0.620000                                        0.010000   \n",
       "25%                  3.890000                                        1.895000   \n",
       "50%                  5.500000                                        4.540000   \n",
       "75%                  7.540000                                        6.190000   \n",
       "max                 15.320000                                       17.240000   \n",
       "\n",
       "           Spread  \n",
       "count  763.000000  \n",
       "mean     1.352529  \n",
       "std      1.245848  \n",
       "min     -3.510000  \n",
       "25%      0.480000  \n",
       "50%      1.400000  \n",
       "75%      2.350000  \n",
       "max      4.150000  "
      ]
     },
     "execution_count": 24,
     "metadata": {},
     "output_type": "execute_result"
    }
   ],
   "source": [
    "yield_data.describe()"
   ]
  },
  {
   "cell_type": "code",
   "execution_count": 26,
   "metadata": {},
   "outputs": [
    {
     "name": "stdout",
     "output_type": "stream",
     "text": [
      "10 Year Treasury Yield                            12\n",
      "3 Month Treasury Yield (Bond Equivalent Basis)    12\n",
      "Spread                                            12\n",
      "dtype: int64\n"
     ]
    }
   ],
   "source": [
    "print (yield_data.isnull().sum(axis=0))"
   ]
  },
  {
   "cell_type": "code",
   "execution_count": 28,
   "metadata": {},
   "outputs": [
    {
     "name": "stdout",
     "output_type": "stream",
     "text": [
      "10 Year Treasury Yield                            0\n",
      "3 Month Treasury Yield (Bond Equivalent Basis)    0\n",
      "Spread                                            0\n",
      "dtype: int64\n"
     ]
    }
   ],
   "source": [
    "yield_data.dropna(subset=[\"10 Year Treasury Yield\"], inplace=True)\n",
    "print (yield_data.isnull().sum(axis=0))"
   ]
  },
  {
   "cell_type": "code",
   "execution_count": 29,
   "metadata": {},
   "outputs": [
    {
     "data": {
      "text/html": [
       "<div>\n",
       "<style scoped>\n",
       "    .dataframe tbody tr th:only-of-type {\n",
       "        vertical-align: middle;\n",
       "    }\n",
       "\n",
       "    .dataframe tbody tr th {\n",
       "        vertical-align: top;\n",
       "    }\n",
       "\n",
       "    .dataframe thead th {\n",
       "        text-align: right;\n",
       "    }\n",
       "</style>\n",
       "<table border=\"1\" class=\"dataframe\">\n",
       "  <thead>\n",
       "    <tr style=\"text-align: right;\">\n",
       "      <th></th>\n",
       "      <th>10 Year Treasury Yield</th>\n",
       "      <th>3 Month Treasury Yield (Bond Equivalent Basis)</th>\n",
       "      <th>Spread</th>\n",
       "    </tr>\n",
       "  </thead>\n",
       "  <tbody>\n",
       "    <tr>\n",
       "      <th>count</th>\n",
       "      <td>763.000000</td>\n",
       "      <td>763.000000</td>\n",
       "      <td>763.000000</td>\n",
       "    </tr>\n",
       "    <tr>\n",
       "      <th>mean</th>\n",
       "      <td>5.836081</td>\n",
       "      <td>4.483552</td>\n",
       "      <td>1.352529</td>\n",
       "    </tr>\n",
       "    <tr>\n",
       "      <th>std</th>\n",
       "      <td>2.945843</td>\n",
       "      <td>3.317027</td>\n",
       "      <td>1.245848</td>\n",
       "    </tr>\n",
       "    <tr>\n",
       "      <th>min</th>\n",
       "      <td>0.620000</td>\n",
       "      <td>0.010000</td>\n",
       "      <td>-3.510000</td>\n",
       "    </tr>\n",
       "    <tr>\n",
       "      <th>25%</th>\n",
       "      <td>3.890000</td>\n",
       "      <td>1.895000</td>\n",
       "      <td>0.480000</td>\n",
       "    </tr>\n",
       "    <tr>\n",
       "      <th>50%</th>\n",
       "      <td>5.500000</td>\n",
       "      <td>4.540000</td>\n",
       "      <td>1.400000</td>\n",
       "    </tr>\n",
       "    <tr>\n",
       "      <th>75%</th>\n",
       "      <td>7.540000</td>\n",
       "      <td>6.190000</td>\n",
       "      <td>2.350000</td>\n",
       "    </tr>\n",
       "    <tr>\n",
       "      <th>max</th>\n",
       "      <td>15.320000</td>\n",
       "      <td>17.240000</td>\n",
       "      <td>4.150000</td>\n",
       "    </tr>\n",
       "  </tbody>\n",
       "</table>\n",
       "</div>"
      ],
      "text/plain": [
       "       10 Year Treasury Yield  3 Month Treasury Yield (Bond Equivalent Basis)  \\\n",
       "count              763.000000                                      763.000000   \n",
       "mean                 5.836081                                        4.483552   \n",
       "std                  2.945843                                        3.317027   \n",
       "min                  0.620000                                        0.010000   \n",
       "25%                  3.890000                                        1.895000   \n",
       "50%                  5.500000                                        4.540000   \n",
       "75%                  7.540000                                        6.190000   \n",
       "max                 15.320000                                       17.240000   \n",
       "\n",
       "           Spread  \n",
       "count  763.000000  \n",
       "mean     1.352529  \n",
       "std      1.245848  \n",
       "min     -3.510000  \n",
       "25%      0.480000  \n",
       "50%      1.400000  \n",
       "75%      2.350000  \n",
       "max      4.150000  "
      ]
     },
     "execution_count": 29,
     "metadata": {},
     "output_type": "execute_result"
    }
   ],
   "source": [
    "yield_data.describe(include=\"all\")"
   ]
  },
  {
   "cell_type": "code",
   "execution_count": 32,
   "metadata": {},
   "outputs": [
    {
     "data": {
      "text/html": [
       "<div>\n",
       "<style scoped>\n",
       "    .dataframe tbody tr th:only-of-type {\n",
       "        vertical-align: middle;\n",
       "    }\n",
       "\n",
       "    .dataframe tbody tr th {\n",
       "        vertical-align: top;\n",
       "    }\n",
       "\n",
       "    .dataframe thead th {\n",
       "        text-align: right;\n",
       "    }\n",
       "</style>\n",
       "<table border=\"1\" class=\"dataframe\">\n",
       "  <thead>\n",
       "    <tr style=\"text-align: right;\">\n",
       "      <th></th>\n",
       "      <th>10 Year Treasury Yield</th>\n",
       "      <th>3 Month Treasury Yield (Bond Equivalent Basis)</th>\n",
       "      <th>Spread</th>\n",
       "    </tr>\n",
       "  </thead>\n",
       "  <tbody>\n",
       "    <tr>\n",
       "      <th>0</th>\n",
       "      <td>4.02</td>\n",
       "      <td>2.88</td>\n",
       "      <td>1.14</td>\n",
       "    </tr>\n",
       "    <tr>\n",
       "      <th>1</th>\n",
       "      <td>3.96</td>\n",
       "      <td>2.76</td>\n",
       "      <td>1.20</td>\n",
       "    </tr>\n",
       "    <tr>\n",
       "      <th>2</th>\n",
       "      <td>3.99</td>\n",
       "      <td>2.86</td>\n",
       "      <td>1.13</td>\n",
       "    </tr>\n",
       "    <tr>\n",
       "      <th>3</th>\n",
       "      <td>4.12</td>\n",
       "      <td>3.01</td>\n",
       "      <td>1.11</td>\n",
       "    </tr>\n",
       "    <tr>\n",
       "      <th>4</th>\n",
       "      <td>4.31</td>\n",
       "      <td>2.90</td>\n",
       "      <td>1.41</td>\n",
       "    </tr>\n",
       "    <tr>\n",
       "      <th>5</th>\n",
       "      <td>4.34</td>\n",
       "      <td>3.28</td>\n",
       "      <td>1.06</td>\n",
       "    </tr>\n",
       "    <tr>\n",
       "      <th>6</th>\n",
       "      <td>4.40</td>\n",
       "      <td>3.27</td>\n",
       "      <td>1.13</td>\n",
       "    </tr>\n",
       "    <tr>\n",
       "      <th>7</th>\n",
       "      <td>4.43</td>\n",
       "      <td>3.46</td>\n",
       "      <td>0.97</td>\n",
       "    </tr>\n",
       "    <tr>\n",
       "      <th>8</th>\n",
       "      <td>4.68</td>\n",
       "      <td>4.14</td>\n",
       "      <td>0.54</td>\n",
       "    </tr>\n",
       "    <tr>\n",
       "      <th>9</th>\n",
       "      <td>4.53</td>\n",
       "      <td>4.15</td>\n",
       "      <td>0.38</td>\n",
       "    </tr>\n",
       "    <tr>\n",
       "      <th>10</th>\n",
       "      <td>4.53</td>\n",
       "      <td>4.25</td>\n",
       "      <td>0.28</td>\n",
       "    </tr>\n",
       "    <tr>\n",
       "      <th>11</th>\n",
       "      <td>4.69</td>\n",
       "      <td>4.60</td>\n",
       "      <td>0.09</td>\n",
       "    </tr>\n",
       "    <tr>\n",
       "      <th>12</th>\n",
       "      <td>4.72</td>\n",
       "      <td>4.46</td>\n",
       "      <td>0.26</td>\n",
       "    </tr>\n",
       "    <tr>\n",
       "      <th>13</th>\n",
       "      <td>4.49</td>\n",
       "      <td>4.06</td>\n",
       "      <td>0.43</td>\n",
       "    </tr>\n",
       "    <tr>\n",
       "      <th>14</th>\n",
       "      <td>4.25</td>\n",
       "      <td>3.38</td>\n",
       "      <td>0.87</td>\n",
       "    </tr>\n",
       "    <tr>\n",
       "      <th>15</th>\n",
       "      <td>4.28</td>\n",
       "      <td>3.30</td>\n",
       "      <td>0.98</td>\n",
       "    </tr>\n",
       "    <tr>\n",
       "      <th>16</th>\n",
       "      <td>4.35</td>\n",
       "      <td>3.36</td>\n",
       "      <td>0.99</td>\n",
       "    </tr>\n",
       "    <tr>\n",
       "      <th>17</th>\n",
       "      <td>4.15</td>\n",
       "      <td>2.51</td>\n",
       "      <td>1.64</td>\n",
       "    </tr>\n",
       "    <tr>\n",
       "      <th>18</th>\n",
       "      <td>3.90</td>\n",
       "      <td>2.35</td>\n",
       "      <td>1.55</td>\n",
       "    </tr>\n",
       "    <tr>\n",
       "      <th>19</th>\n",
       "      <td>3.80</td>\n",
       "      <td>2.35</td>\n",
       "      <td>1.45</td>\n",
       "    </tr>\n",
       "  </tbody>\n",
       "</table>\n",
       "</div>"
      ],
      "text/plain": [
       "    10 Year Treasury Yield  3 Month Treasury Yield (Bond Equivalent Basis)  \\\n",
       "0                     4.02                                            2.88   \n",
       "1                     3.96                                            2.76   \n",
       "2                     3.99                                            2.86   \n",
       "3                     4.12                                            3.01   \n",
       "4                     4.31                                            2.90   \n",
       "5                     4.34                                            3.28   \n",
       "6                     4.40                                            3.27   \n",
       "7                     4.43                                            3.46   \n",
       "8                     4.68                                            4.14   \n",
       "9                     4.53                                            4.15   \n",
       "10                    4.53                                            4.25   \n",
       "11                    4.69                                            4.60   \n",
       "12                    4.72                                            4.46   \n",
       "13                    4.49                                            4.06   \n",
       "14                    4.25                                            3.38   \n",
       "15                    4.28                                            3.30   \n",
       "16                    4.35                                            3.36   \n",
       "17                    4.15                                            2.51   \n",
       "18                    3.90                                            2.35   \n",
       "19                    3.80                                            2.35   \n",
       "\n",
       "    Spread  \n",
       "0     1.14  \n",
       "1     1.20  \n",
       "2     1.13  \n",
       "3     1.11  \n",
       "4     1.41  \n",
       "5     1.06  \n",
       "6     1.13  \n",
       "7     0.97  \n",
       "8     0.54  \n",
       "9     0.38  \n",
       "10    0.28  \n",
       "11    0.09  \n",
       "12    0.26  \n",
       "13    0.43  \n",
       "14    0.87  \n",
       "15    0.98  \n",
       "16    0.99  \n",
       "17    1.64  \n",
       "18    1.55  \n",
       "19    1.45  "
      ]
     },
     "execution_count": 32,
     "metadata": {},
     "output_type": "execute_result"
    }
   ],
   "source": [
    "yield_data.head(20)"
   ]
  },
  {
   "cell_type": "code",
   "execution_count": 34,
   "metadata": {},
   "outputs": [
    {
     "ename": "KeyError",
     "evalue": "'False: boolean label can not be used without a boolean index'",
     "output_type": "error",
     "traceback": [
      "\u001b[0;31m---------------------------------------------------------------------------\u001b[0m",
      "\u001b[0;31mKeyError\u001b[0m                                  Traceback (most recent call last)",
      "\u001b[1;32m/Users/zaira.ortiz/capstone-1/capstone.ipynb Cell 37\u001b[0m in \u001b[0;36m<cell line: 1>\u001b[0;34m()\u001b[0m\n\u001b[0;32m----> <a href='vscode-notebook-cell:/Users/zaira.ortiz/capstone-1/capstone.ipynb#X54sZmlsZQ%3D%3D?line=0'>1</a>\u001b[0m treasury_data\u001b[39m.\u001b[39;49mloc[([\u001b[39m'\u001b[39;49m\u001b[39mDate\u001b[39;49m\u001b[39m'\u001b[39;49m] \u001b[39m==\u001b[39;49m \u001b[39m'\u001b[39;49m\u001b[39m31-Jul-12\u001b[39;49m\u001b[39m'\u001b[39;49m)]\n",
      "File \u001b[0;32m~/capstone-1/venv/lib/python3.9/site-packages/pandas/core/indexing.py:967\u001b[0m, in \u001b[0;36m_LocationIndexer.__getitem__\u001b[0;34m(self, key)\u001b[0m\n\u001b[1;32m    964\u001b[0m axis \u001b[39m=\u001b[39m \u001b[39mself\u001b[39m\u001b[39m.\u001b[39maxis \u001b[39mor\u001b[39;00m \u001b[39m0\u001b[39m\n\u001b[1;32m    966\u001b[0m maybe_callable \u001b[39m=\u001b[39m com\u001b[39m.\u001b[39mapply_if_callable(key, \u001b[39mself\u001b[39m\u001b[39m.\u001b[39mobj)\n\u001b[0;32m--> 967\u001b[0m \u001b[39mreturn\u001b[39;00m \u001b[39mself\u001b[39;49m\u001b[39m.\u001b[39;49m_getitem_axis(maybe_callable, axis\u001b[39m=\u001b[39;49maxis)\n",
      "File \u001b[0;32m~/capstone-1/venv/lib/python3.9/site-packages/pandas/core/indexing.py:1201\u001b[0m, in \u001b[0;36m_LocIndexer._getitem_axis\u001b[0;34m(self, key, axis)\u001b[0m\n\u001b[1;32m   1198\u001b[0m         \u001b[39mreturn\u001b[39;00m \u001b[39mself\u001b[39m\u001b[39m.\u001b[39mobj\u001b[39m.\u001b[39miloc[\u001b[39mtuple\u001b[39m(indexer)]\n\u001b[1;32m   1200\u001b[0m \u001b[39m# fall thru to straight lookup\u001b[39;00m\n\u001b[0;32m-> 1201\u001b[0m \u001b[39mself\u001b[39;49m\u001b[39m.\u001b[39;49m_validate_key(key, axis)\n\u001b[1;32m   1202\u001b[0m \u001b[39mreturn\u001b[39;00m \u001b[39mself\u001b[39m\u001b[39m.\u001b[39m_get_label(key, axis\u001b[39m=\u001b[39maxis)\n",
      "File \u001b[0;32m~/capstone-1/venv/lib/python3.9/site-packages/pandas/core/indexing.py:1011\u001b[0m, in \u001b[0;36m_LocIndexer._validate_key\u001b[0;34m(self, key, axis)\u001b[0m\n\u001b[1;32m   1001\u001b[0m \u001b[39m@doc\u001b[39m(_LocationIndexer\u001b[39m.\u001b[39m_validate_key)\n\u001b[1;32m   1002\u001b[0m \u001b[39mdef\u001b[39;00m \u001b[39m_validate_key\u001b[39m(\u001b[39mself\u001b[39m, key, axis: \u001b[39mint\u001b[39m):\n\u001b[1;32m   1003\u001b[0m     \u001b[39m# valid for a collection of labels (we check their presence later)\u001b[39;00m\n\u001b[1;32m   1004\u001b[0m     \u001b[39m# slice of labels (where start-end in labels)\u001b[39;00m\n\u001b[1;32m   1005\u001b[0m     \u001b[39m# slice of integers (only if in the labels)\u001b[39;00m\n\u001b[1;32m   1006\u001b[0m     \u001b[39m# boolean not in slice and with boolean index\u001b[39;00m\n\u001b[1;32m   1007\u001b[0m     \u001b[39mif\u001b[39;00m \u001b[39misinstance\u001b[39m(key, \u001b[39mbool\u001b[39m) \u001b[39mand\u001b[39;00m \u001b[39mnot\u001b[39;00m (\n\u001b[1;32m   1008\u001b[0m         is_bool_dtype(\u001b[39mself\u001b[39m\u001b[39m.\u001b[39mobj\u001b[39m.\u001b[39m_get_axis(axis))\n\u001b[1;32m   1009\u001b[0m         \u001b[39mor\u001b[39;00m \u001b[39mself\u001b[39m\u001b[39m.\u001b[39mobj\u001b[39m.\u001b[39m_get_axis(axis)\u001b[39m.\u001b[39mdtype\u001b[39m.\u001b[39mname \u001b[39m==\u001b[39m \u001b[39m\"\u001b[39m\u001b[39mboolean\u001b[39m\u001b[39m\"\u001b[39m\n\u001b[1;32m   1010\u001b[0m     ):\n\u001b[0;32m-> 1011\u001b[0m         \u001b[39mraise\u001b[39;00m \u001b[39mKeyError\u001b[39;00m(\n\u001b[1;32m   1012\u001b[0m             \u001b[39mf\u001b[39m\u001b[39m\"\u001b[39m\u001b[39m{\u001b[39;00mkey\u001b[39m}\u001b[39;00m\u001b[39m: boolean label can not be used without a boolean index\u001b[39m\u001b[39m\"\u001b[39m\n\u001b[1;32m   1013\u001b[0m         )\n\u001b[1;32m   1015\u001b[0m     \u001b[39mif\u001b[39;00m \u001b[39misinstance\u001b[39m(key, \u001b[39mslice\u001b[39m) \u001b[39mand\u001b[39;00m (\n\u001b[1;32m   1016\u001b[0m         \u001b[39misinstance\u001b[39m(key\u001b[39m.\u001b[39mstart, \u001b[39mbool\u001b[39m) \u001b[39mor\u001b[39;00m \u001b[39misinstance\u001b[39m(key\u001b[39m.\u001b[39mstop, \u001b[39mbool\u001b[39m)\n\u001b[1;32m   1017\u001b[0m     ):\n\u001b[1;32m   1018\u001b[0m         \u001b[39mraise\u001b[39;00m \u001b[39mTypeError\u001b[39;00m(\u001b[39mf\u001b[39m\u001b[39m\"\u001b[39m\u001b[39m{\u001b[39;00mkey\u001b[39m}\u001b[39;00m\u001b[39m: boolean values can not be used in a slice\u001b[39m\u001b[39m\"\u001b[39m)\n",
      "\u001b[0;31mKeyError\u001b[0m: 'False: boolean label can not be used without a boolean index'"
     ]
    }
   ],
   "source": [
    "treasury_data.loc[(['Date'] == '31-Jul-12')]"
   ]
  },
  {
   "cell_type": "markdown",
   "metadata": {},
   "source": [
    "## Reach a conclusion\n",
    "\n",
    "What was the result of your experiment?\n",
    "\n",
    "How can it be improved?\n",
    "\n",
    "Elaborate in one thing you learn during the capstone project."
   ]
  },
  {
   "cell_type": "markdown",
   "metadata": {},
   "source": [
    "## Congratulations\n",
    "\n",
    "You have finished the bootcamp!\n",
    "\n",
    "![Congratulations](images/congratulations.jpg)"
   ]
  }
 ],
 "metadata": {
  "kernelspec": {
   "display_name": "Python 3.9.13 ('venv': venv)",
   "language": "python",
   "name": "python3"
  },
  "language_info": {
   "codemirror_mode": {
    "name": "ipython",
    "version": 3
   },
   "file_extension": ".py",
   "mimetype": "text/x-python",
   "name": "python",
   "nbconvert_exporter": "python",
   "pygments_lexer": "ipython3",
   "version": "3.9.13"
  },
  "vscode": {
   "interpreter": {
    "hash": "df6b41b075db6a2f2c9f98b203c8c9b2d206ede475ff3bb3684fc290f60ecca2"
   }
  }
 },
 "nbformat": 4,
 "nbformat_minor": 4
}
